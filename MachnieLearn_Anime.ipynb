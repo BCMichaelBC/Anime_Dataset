{
  "nbformat": 4,
  "nbformat_minor": 0,
  "metadata": {
    "colab": {
      "provenance": [],
      "collapsed_sections": []
    },
    "kernelspec": {
      "name": "python3",
      "display_name": "Python 3"
    },
    "language_info": {
      "name": "python"
    }
  },
  "cells": [
    {
      "cell_type": "code",
      "execution_count": 97,
      "metadata": {
        "id": "GTDgYnP-QuhF"
      },
      "outputs": [],
      "source": [
        "import pandas as pd\n",
        "from matplotlib import pyplot as plt\n",
        "import matplotlib as mpl"
      ]
    },
    {
      "cell_type": "code",
      "source": [
        "# Load the Anime CSV into a dataframe\n",
        "df = pd.read_csv('https://raw.githubusercontent.com/BCMichaelBC/Anime_Dataset/main/anime_with_synopsis.csv')"
      ],
      "metadata": {
        "id": "hN_bibqhRG6m"
      },
      "execution_count": 98,
      "outputs": []
    },
    {
      "cell_type": "code",
      "source": [
        "df"
      ],
      "metadata": {
        "colab": {
          "base_uri": "https://localhost:8080/",
          "height": 424
        },
        "id": "Gd_NsdoiRXUf",
        "outputId": "919e0ca1-af0d-497f-e64d-3234173425e8"
      },
      "execution_count": 99,
      "outputs": [
        {
          "output_type": "execute_result",
          "data": {
            "text/plain": [
              "       MAL_ID                             Name    Score  \\\n",
              "0           1                     Cowboy Bebop     8.78   \n",
              "1           5  Cowboy Bebop: Tengoku no Tobira     8.39   \n",
              "2           6                           Trigun     8.24   \n",
              "3           7               Witch Hunter Robin     7.27   \n",
              "4           8                   Bouken Ou Beet     6.98   \n",
              "...       ...                              ...      ...   \n",
              "16209   48481  Daomu Biji Zhi Qinling Shen Shu  Unknown   \n",
              "16210   48483                     Mieruko-chan  Unknown   \n",
              "16211   48488  Higurashi no Naku Koro ni Sotsu  Unknown   \n",
              "16212   48491      Yama no Susume: Next Summit  Unknown   \n",
              "16213   48492                    Scarlet Nexus  Unknown   \n",
              "\n",
              "                                                  Genres  \\\n",
              "0        Action, Adventure, Comedy, Drama, Sci-Fi, Space   \n",
              "1                  Action, Drama, Mystery, Sci-Fi, Space   \n",
              "2      Action, Sci-Fi, Adventure, Comedy, Drama, Shounen   \n",
              "3      Action, Mystery, Police, Supernatural, Drama, ...   \n",
              "4              Adventure, Fantasy, Shounen, Supernatural   \n",
              "...                                                  ...   \n",
              "16209                   Adventure, Mystery, Supernatural   \n",
              "16210                       Comedy, Horror, Supernatural   \n",
              "16211  Mystery, Dementia, Horror, Psychological, Supe...   \n",
              "16212                   Adventure, Slice of Life, Comedy   \n",
              "16213                                    Action, Fantasy   \n",
              "\n",
              "                                               sypnopsis  \n",
              "0      In the year 2071, humanity has colonized sever...  \n",
              "1      other day, another bounty—such is the life of ...  \n",
              "2      Vash the Stampede is the man with a $$60,000,0...  \n",
              "3      ches are individuals with special powers like ...  \n",
              "4      It is the dark century and the people are suff...  \n",
              "...                                                  ...  \n",
              "16209  No synopsis information has been added to this...  \n",
              "16210  ko is a typical high school student whose life...  \n",
              "16211          Sequel to Higurashi no Naku Koro ni Gou .  \n",
              "16212                          New Yama no Susume anime.  \n",
              "16213  Solar calendar year 2020: grotesque organisms ...  \n",
              "\n",
              "[16214 rows x 5 columns]"
            ],
            "text/html": [
              "\n",
              "  <div id=\"df-4be4ec75-53a1-4e0d-bdad-327d3d903d41\">\n",
              "    <div class=\"colab-df-container\">\n",
              "      <div>\n",
              "<style scoped>\n",
              "    .dataframe tbody tr th:only-of-type {\n",
              "        vertical-align: middle;\n",
              "    }\n",
              "\n",
              "    .dataframe tbody tr th {\n",
              "        vertical-align: top;\n",
              "    }\n",
              "\n",
              "    .dataframe thead th {\n",
              "        text-align: right;\n",
              "    }\n",
              "</style>\n",
              "<table border=\"1\" class=\"dataframe\">\n",
              "  <thead>\n",
              "    <tr style=\"text-align: right;\">\n",
              "      <th></th>\n",
              "      <th>MAL_ID</th>\n",
              "      <th>Name</th>\n",
              "      <th>Score</th>\n",
              "      <th>Genres</th>\n",
              "      <th>sypnopsis</th>\n",
              "    </tr>\n",
              "  </thead>\n",
              "  <tbody>\n",
              "    <tr>\n",
              "      <th>0</th>\n",
              "      <td>1</td>\n",
              "      <td>Cowboy Bebop</td>\n",
              "      <td>8.78</td>\n",
              "      <td>Action, Adventure, Comedy, Drama, Sci-Fi, Space</td>\n",
              "      <td>In the year 2071, humanity has colonized sever...</td>\n",
              "    </tr>\n",
              "    <tr>\n",
              "      <th>1</th>\n",
              "      <td>5</td>\n",
              "      <td>Cowboy Bebop: Tengoku no Tobira</td>\n",
              "      <td>8.39</td>\n",
              "      <td>Action, Drama, Mystery, Sci-Fi, Space</td>\n",
              "      <td>other day, another bounty—such is the life of ...</td>\n",
              "    </tr>\n",
              "    <tr>\n",
              "      <th>2</th>\n",
              "      <td>6</td>\n",
              "      <td>Trigun</td>\n",
              "      <td>8.24</td>\n",
              "      <td>Action, Sci-Fi, Adventure, Comedy, Drama, Shounen</td>\n",
              "      <td>Vash the Stampede is the man with a $$60,000,0...</td>\n",
              "    </tr>\n",
              "    <tr>\n",
              "      <th>3</th>\n",
              "      <td>7</td>\n",
              "      <td>Witch Hunter Robin</td>\n",
              "      <td>7.27</td>\n",
              "      <td>Action, Mystery, Police, Supernatural, Drama, ...</td>\n",
              "      <td>ches are individuals with special powers like ...</td>\n",
              "    </tr>\n",
              "    <tr>\n",
              "      <th>4</th>\n",
              "      <td>8</td>\n",
              "      <td>Bouken Ou Beet</td>\n",
              "      <td>6.98</td>\n",
              "      <td>Adventure, Fantasy, Shounen, Supernatural</td>\n",
              "      <td>It is the dark century and the people are suff...</td>\n",
              "    </tr>\n",
              "    <tr>\n",
              "      <th>...</th>\n",
              "      <td>...</td>\n",
              "      <td>...</td>\n",
              "      <td>...</td>\n",
              "      <td>...</td>\n",
              "      <td>...</td>\n",
              "    </tr>\n",
              "    <tr>\n",
              "      <th>16209</th>\n",
              "      <td>48481</td>\n",
              "      <td>Daomu Biji Zhi Qinling Shen Shu</td>\n",
              "      <td>Unknown</td>\n",
              "      <td>Adventure, Mystery, Supernatural</td>\n",
              "      <td>No synopsis information has been added to this...</td>\n",
              "    </tr>\n",
              "    <tr>\n",
              "      <th>16210</th>\n",
              "      <td>48483</td>\n",
              "      <td>Mieruko-chan</td>\n",
              "      <td>Unknown</td>\n",
              "      <td>Comedy, Horror, Supernatural</td>\n",
              "      <td>ko is a typical high school student whose life...</td>\n",
              "    </tr>\n",
              "    <tr>\n",
              "      <th>16211</th>\n",
              "      <td>48488</td>\n",
              "      <td>Higurashi no Naku Koro ni Sotsu</td>\n",
              "      <td>Unknown</td>\n",
              "      <td>Mystery, Dementia, Horror, Psychological, Supe...</td>\n",
              "      <td>Sequel to Higurashi no Naku Koro ni Gou .</td>\n",
              "    </tr>\n",
              "    <tr>\n",
              "      <th>16212</th>\n",
              "      <td>48491</td>\n",
              "      <td>Yama no Susume: Next Summit</td>\n",
              "      <td>Unknown</td>\n",
              "      <td>Adventure, Slice of Life, Comedy</td>\n",
              "      <td>New Yama no Susume anime.</td>\n",
              "    </tr>\n",
              "    <tr>\n",
              "      <th>16213</th>\n",
              "      <td>48492</td>\n",
              "      <td>Scarlet Nexus</td>\n",
              "      <td>Unknown</td>\n",
              "      <td>Action, Fantasy</td>\n",
              "      <td>Solar calendar year 2020: grotesque organisms ...</td>\n",
              "    </tr>\n",
              "  </tbody>\n",
              "</table>\n",
              "<p>16214 rows × 5 columns</p>\n",
              "</div>\n",
              "      <button class=\"colab-df-convert\" onclick=\"convertToInteractive('df-4be4ec75-53a1-4e0d-bdad-327d3d903d41')\"\n",
              "              title=\"Convert this dataframe to an interactive table.\"\n",
              "              style=\"display:none;\">\n",
              "        \n",
              "  <svg xmlns=\"http://www.w3.org/2000/svg\" height=\"24px\"viewBox=\"0 0 24 24\"\n",
              "       width=\"24px\">\n",
              "    <path d=\"M0 0h24v24H0V0z\" fill=\"none\"/>\n",
              "    <path d=\"M18.56 5.44l.94 2.06.94-2.06 2.06-.94-2.06-.94-.94-2.06-.94 2.06-2.06.94zm-11 1L8.5 8.5l.94-2.06 2.06-.94-2.06-.94L8.5 2.5l-.94 2.06-2.06.94zm10 10l.94 2.06.94-2.06 2.06-.94-2.06-.94-.94-2.06-.94 2.06-2.06.94z\"/><path d=\"M17.41 7.96l-1.37-1.37c-.4-.4-.92-.59-1.43-.59-.52 0-1.04.2-1.43.59L10.3 9.45l-7.72 7.72c-.78.78-.78 2.05 0 2.83L4 21.41c.39.39.9.59 1.41.59.51 0 1.02-.2 1.41-.59l7.78-7.78 2.81-2.81c.8-.78.8-2.07 0-2.86zM5.41 20L4 18.59l7.72-7.72 1.47 1.35L5.41 20z\"/>\n",
              "  </svg>\n",
              "      </button>\n",
              "      \n",
              "  <style>\n",
              "    .colab-df-container {\n",
              "      display:flex;\n",
              "      flex-wrap:wrap;\n",
              "      gap: 12px;\n",
              "    }\n",
              "\n",
              "    .colab-df-convert {\n",
              "      background-color: #E8F0FE;\n",
              "      border: none;\n",
              "      border-radius: 50%;\n",
              "      cursor: pointer;\n",
              "      display: none;\n",
              "      fill: #1967D2;\n",
              "      height: 32px;\n",
              "      padding: 0 0 0 0;\n",
              "      width: 32px;\n",
              "    }\n",
              "\n",
              "    .colab-df-convert:hover {\n",
              "      background-color: #E2EBFA;\n",
              "      box-shadow: 0px 1px 2px rgba(60, 64, 67, 0.3), 0px 1px 3px 1px rgba(60, 64, 67, 0.15);\n",
              "      fill: #174EA6;\n",
              "    }\n",
              "\n",
              "    [theme=dark] .colab-df-convert {\n",
              "      background-color: #3B4455;\n",
              "      fill: #D2E3FC;\n",
              "    }\n",
              "\n",
              "    [theme=dark] .colab-df-convert:hover {\n",
              "      background-color: #434B5C;\n",
              "      box-shadow: 0px 1px 3px 1px rgba(0, 0, 0, 0.15);\n",
              "      filter: drop-shadow(0px 1px 2px rgba(0, 0, 0, 0.3));\n",
              "      fill: #FFFFFF;\n",
              "    }\n",
              "  </style>\n",
              "\n",
              "      <script>\n",
              "        const buttonEl =\n",
              "          document.querySelector('#df-4be4ec75-53a1-4e0d-bdad-327d3d903d41 button.colab-df-convert');\n",
              "        buttonEl.style.display =\n",
              "          google.colab.kernel.accessAllowed ? 'block' : 'none';\n",
              "\n",
              "        async function convertToInteractive(key) {\n",
              "          const element = document.querySelector('#df-4be4ec75-53a1-4e0d-bdad-327d3d903d41');\n",
              "          const dataTable =\n",
              "            await google.colab.kernel.invokeFunction('convertToInteractive',\n",
              "                                                     [key], {});\n",
              "          if (!dataTable) return;\n",
              "\n",
              "          const docLinkHtml = 'Like what you see? Visit the ' +\n",
              "            '<a target=\"_blank\" href=https://colab.research.google.com/notebooks/data_table.ipynb>data table notebook</a>'\n",
              "            + ' to learn more about interactive tables.';\n",
              "          element.innerHTML = '';\n",
              "          dataTable['output_type'] = 'display_data';\n",
              "          await google.colab.output.renderOutput(dataTable, element);\n",
              "          const docLink = document.createElement('div');\n",
              "          docLink.innerHTML = docLinkHtml;\n",
              "          element.appendChild(docLink);\n",
              "        }\n",
              "      </script>\n",
              "    </div>\n",
              "  </div>\n",
              "  "
            ]
          },
          "metadata": {},
          "execution_count": 99
        }
      ]
    },
    {
      "cell_type": "code",
      "source": [
        "df.info()"
      ],
      "metadata": {
        "colab": {
          "base_uri": "https://localhost:8080/"
        },
        "id": "j26RQA8GRXNC",
        "outputId": "9ed0ba47-fa0f-4e4e-879a-4b2030189ac2"
      },
      "execution_count": 100,
      "outputs": [
        {
          "output_type": "stream",
          "name": "stdout",
          "text": [
            "<class 'pandas.core.frame.DataFrame'>\n",
            "RangeIndex: 16214 entries, 0 to 16213\n",
            "Data columns (total 5 columns):\n",
            " #   Column     Non-Null Count  Dtype \n",
            "---  ------     --------------  ----- \n",
            " 0   MAL_ID     16214 non-null  int64 \n",
            " 1   Name       16214 non-null  object\n",
            " 2   Score      16214 non-null  object\n",
            " 3   Genres     16214 non-null  object\n",
            " 4   sypnopsis  16206 non-null  object\n",
            "dtypes: int64(1), object(4)\n",
            "memory usage: 633.5+ KB\n"
          ]
        }
      ]
    },
    {
      "cell_type": "code",
      "source": [
        "df[df['sypnopsis'].isna()]"
      ],
      "metadata": {
        "colab": {
          "base_uri": "https://localhost:8080/",
          "height": 300
        },
        "id": "DEf4YRKiUj1i",
        "outputId": "89c95e17-3006-4710-ba00-9f77076e236d"
      },
      "execution_count": 101,
      "outputs": [
        {
          "output_type": "execute_result",
          "data": {
            "text/plain": [
              "       MAL_ID                                               Name    Score  \\\n",
              "11451   34755  Kuma no Gakkou: Patissier Jackie to Ohisama no...  Unknown   \n",
              "11469   34794                                Yukai na Animal Bus  Unknown   \n",
              "13686   38475                                   Yuru Camp△ Movie  Unknown   \n",
              "15025   40714  Youkai Watch Jam: Youkai Gakuen Y - N to no So...     6.28   \n",
              "15747   42717                   Kaeru no Pickles: Kimochi no Iro  Unknown   \n",
              "16056   44848                                        Iii Icecrin  Unknown   \n",
              "16110   45731                   Argonavis from BanG Dream! Movie  Unknown   \n",
              "16120   46095                          Vivy: Fluorite Eye's Song  Unknown   \n",
              "\n",
              "                                           Genres sypnopsis  \n",
              "11451                                Comedy, Kids       NaN  \n",
              "11469                                Comedy, Kids       NaN  \n",
              "13686                       Comedy, Slice of Life       NaN  \n",
              "15025  Comedy, Demons, Kids, Supernatural, School       NaN  \n",
              "15747                         Slice of Life, Kids       NaN  \n",
              "16056                                        Kids       NaN  \n",
              "16110                                       Music       NaN  \n",
              "16120                                      Sci-Fi       NaN  "
            ],
            "text/html": [
              "\n",
              "  <div id=\"df-8dfe88ff-3118-49f0-8d98-4493224e3df8\">\n",
              "    <div class=\"colab-df-container\">\n",
              "      <div>\n",
              "<style scoped>\n",
              "    .dataframe tbody tr th:only-of-type {\n",
              "        vertical-align: middle;\n",
              "    }\n",
              "\n",
              "    .dataframe tbody tr th {\n",
              "        vertical-align: top;\n",
              "    }\n",
              "\n",
              "    .dataframe thead th {\n",
              "        text-align: right;\n",
              "    }\n",
              "</style>\n",
              "<table border=\"1\" class=\"dataframe\">\n",
              "  <thead>\n",
              "    <tr style=\"text-align: right;\">\n",
              "      <th></th>\n",
              "      <th>MAL_ID</th>\n",
              "      <th>Name</th>\n",
              "      <th>Score</th>\n",
              "      <th>Genres</th>\n",
              "      <th>sypnopsis</th>\n",
              "    </tr>\n",
              "  </thead>\n",
              "  <tbody>\n",
              "    <tr>\n",
              "      <th>11451</th>\n",
              "      <td>34755</td>\n",
              "      <td>Kuma no Gakkou: Patissier Jackie to Ohisama no...</td>\n",
              "      <td>Unknown</td>\n",
              "      <td>Comedy, Kids</td>\n",
              "      <td>NaN</td>\n",
              "    </tr>\n",
              "    <tr>\n",
              "      <th>11469</th>\n",
              "      <td>34794</td>\n",
              "      <td>Yukai na Animal Bus</td>\n",
              "      <td>Unknown</td>\n",
              "      <td>Comedy, Kids</td>\n",
              "      <td>NaN</td>\n",
              "    </tr>\n",
              "    <tr>\n",
              "      <th>13686</th>\n",
              "      <td>38475</td>\n",
              "      <td>Yuru Camp△ Movie</td>\n",
              "      <td>Unknown</td>\n",
              "      <td>Comedy, Slice of Life</td>\n",
              "      <td>NaN</td>\n",
              "    </tr>\n",
              "    <tr>\n",
              "      <th>15025</th>\n",
              "      <td>40714</td>\n",
              "      <td>Youkai Watch Jam: Youkai Gakuen Y - N to no So...</td>\n",
              "      <td>6.28</td>\n",
              "      <td>Comedy, Demons, Kids, Supernatural, School</td>\n",
              "      <td>NaN</td>\n",
              "    </tr>\n",
              "    <tr>\n",
              "      <th>15747</th>\n",
              "      <td>42717</td>\n",
              "      <td>Kaeru no Pickles: Kimochi no Iro</td>\n",
              "      <td>Unknown</td>\n",
              "      <td>Slice of Life, Kids</td>\n",
              "      <td>NaN</td>\n",
              "    </tr>\n",
              "    <tr>\n",
              "      <th>16056</th>\n",
              "      <td>44848</td>\n",
              "      <td>Iii Icecrin</td>\n",
              "      <td>Unknown</td>\n",
              "      <td>Kids</td>\n",
              "      <td>NaN</td>\n",
              "    </tr>\n",
              "    <tr>\n",
              "      <th>16110</th>\n",
              "      <td>45731</td>\n",
              "      <td>Argonavis from BanG Dream! Movie</td>\n",
              "      <td>Unknown</td>\n",
              "      <td>Music</td>\n",
              "      <td>NaN</td>\n",
              "    </tr>\n",
              "    <tr>\n",
              "      <th>16120</th>\n",
              "      <td>46095</td>\n",
              "      <td>Vivy: Fluorite Eye's Song</td>\n",
              "      <td>Unknown</td>\n",
              "      <td>Sci-Fi</td>\n",
              "      <td>NaN</td>\n",
              "    </tr>\n",
              "  </tbody>\n",
              "</table>\n",
              "</div>\n",
              "      <button class=\"colab-df-convert\" onclick=\"convertToInteractive('df-8dfe88ff-3118-49f0-8d98-4493224e3df8')\"\n",
              "              title=\"Convert this dataframe to an interactive table.\"\n",
              "              style=\"display:none;\">\n",
              "        \n",
              "  <svg xmlns=\"http://www.w3.org/2000/svg\" height=\"24px\"viewBox=\"0 0 24 24\"\n",
              "       width=\"24px\">\n",
              "    <path d=\"M0 0h24v24H0V0z\" fill=\"none\"/>\n",
              "    <path d=\"M18.56 5.44l.94 2.06.94-2.06 2.06-.94-2.06-.94-.94-2.06-.94 2.06-2.06.94zm-11 1L8.5 8.5l.94-2.06 2.06-.94-2.06-.94L8.5 2.5l-.94 2.06-2.06.94zm10 10l.94 2.06.94-2.06 2.06-.94-2.06-.94-.94-2.06-.94 2.06-2.06.94z\"/><path d=\"M17.41 7.96l-1.37-1.37c-.4-.4-.92-.59-1.43-.59-.52 0-1.04.2-1.43.59L10.3 9.45l-7.72 7.72c-.78.78-.78 2.05 0 2.83L4 21.41c.39.39.9.59 1.41.59.51 0 1.02-.2 1.41-.59l7.78-7.78 2.81-2.81c.8-.78.8-2.07 0-2.86zM5.41 20L4 18.59l7.72-7.72 1.47 1.35L5.41 20z\"/>\n",
              "  </svg>\n",
              "      </button>\n",
              "      \n",
              "  <style>\n",
              "    .colab-df-container {\n",
              "      display:flex;\n",
              "      flex-wrap:wrap;\n",
              "      gap: 12px;\n",
              "    }\n",
              "\n",
              "    .colab-df-convert {\n",
              "      background-color: #E8F0FE;\n",
              "      border: none;\n",
              "      border-radius: 50%;\n",
              "      cursor: pointer;\n",
              "      display: none;\n",
              "      fill: #1967D2;\n",
              "      height: 32px;\n",
              "      padding: 0 0 0 0;\n",
              "      width: 32px;\n",
              "    }\n",
              "\n",
              "    .colab-df-convert:hover {\n",
              "      background-color: #E2EBFA;\n",
              "      box-shadow: 0px 1px 2px rgba(60, 64, 67, 0.3), 0px 1px 3px 1px rgba(60, 64, 67, 0.15);\n",
              "      fill: #174EA6;\n",
              "    }\n",
              "\n",
              "    [theme=dark] .colab-df-convert {\n",
              "      background-color: #3B4455;\n",
              "      fill: #D2E3FC;\n",
              "    }\n",
              "\n",
              "    [theme=dark] .colab-df-convert:hover {\n",
              "      background-color: #434B5C;\n",
              "      box-shadow: 0px 1px 3px 1px rgba(0, 0, 0, 0.15);\n",
              "      filter: drop-shadow(0px 1px 2px rgba(0, 0, 0, 0.3));\n",
              "      fill: #FFFFFF;\n",
              "    }\n",
              "  </style>\n",
              "\n",
              "      <script>\n",
              "        const buttonEl =\n",
              "          document.querySelector('#df-8dfe88ff-3118-49f0-8d98-4493224e3df8 button.colab-df-convert');\n",
              "        buttonEl.style.display =\n",
              "          google.colab.kernel.accessAllowed ? 'block' : 'none';\n",
              "\n",
              "        async function convertToInteractive(key) {\n",
              "          const element = document.querySelector('#df-8dfe88ff-3118-49f0-8d98-4493224e3df8');\n",
              "          const dataTable =\n",
              "            await google.colab.kernel.invokeFunction('convertToInteractive',\n",
              "                                                     [key], {});\n",
              "          if (!dataTable) return;\n",
              "\n",
              "          const docLinkHtml = 'Like what you see? Visit the ' +\n",
              "            '<a target=\"_blank\" href=https://colab.research.google.com/notebooks/data_table.ipynb>data table notebook</a>'\n",
              "            + ' to learn more about interactive tables.';\n",
              "          element.innerHTML = '';\n",
              "          dataTable['output_type'] = 'display_data';\n",
              "          await google.colab.output.renderOutput(dataTable, element);\n",
              "          const docLink = document.createElement('div');\n",
              "          docLink.innerHTML = docLinkHtml;\n",
              "          element.appendChild(docLink);\n",
              "        }\n",
              "      </script>\n",
              "    </div>\n",
              "  </div>\n",
              "  "
            ]
          },
          "metadata": {},
          "execution_count": 101
        }
      ]
    },
    {
      "cell_type": "code",
      "source": [
        "df.dropna().info()"
      ],
      "metadata": {
        "colab": {
          "base_uri": "https://localhost:8080/"
        },
        "id": "Vd39kOacU-58",
        "outputId": "1a9d396a-c420-48d6-9f6c-7efab39180df"
      },
      "execution_count": 102,
      "outputs": [
        {
          "output_type": "stream",
          "name": "stdout",
          "text": [
            "<class 'pandas.core.frame.DataFrame'>\n",
            "Int64Index: 16206 entries, 0 to 16213\n",
            "Data columns (total 5 columns):\n",
            " #   Column     Non-Null Count  Dtype \n",
            "---  ------     --------------  ----- \n",
            " 0   MAL_ID     16206 non-null  int64 \n",
            " 1   Name       16206 non-null  object\n",
            " 2   Score      16206 non-null  object\n",
            " 3   Genres     16206 non-null  object\n",
            " 4   sypnopsis  16206 non-null  object\n",
            "dtypes: int64(1), object(4)\n",
            "memory usage: 759.7+ KB\n"
          ]
        }
      ]
    },
    {
      "cell_type": "markdown",
      "source": [
        "Since there are some NaN and since there are only 8 missing ill just drop those."
      ],
      "metadata": {
        "id": "G2Pl553bVOkC"
      }
    },
    {
      "cell_type": "code",
      "source": [
        "df = df.dropna()"
      ],
      "metadata": {
        "id": "t-ZNADFYVJ4C"
      },
      "execution_count": 103,
      "outputs": []
    },
    {
      "cell_type": "code",
      "source": [
        "df.sypnopsis.value_counts()"
      ],
      "metadata": {
        "colab": {
          "base_uri": "https://localhost:8080/"
        },
        "id": "drlBrEkEf3eu",
        "outputId": "813506be-c5ee-4a92-acba-f03eb42339f7"
      },
      "execution_count": 104,
      "outputs": [
        {
          "output_type": "execute_result",
          "data": {
            "text/plain": [
              "No synopsis information has been added to this title. Help improve our database by adding a synopsis here .                                                                                                                                                                                                                                                                                                                                                                                                                                                   709\n",
              "No synopsis has been added for this series yet. Click here to update this information.                                                                                                                                                                                                                                                                                                                                                                                                                                                                         35\n",
              "Furukawa Taku film.                                                                                                                                                                                                                                                                                                                                                                                                                                                                                                                                            13\n",
              "Film by Takashi Ito.                                                                                                                                                                                                                                                                                                                                                                                                                                                                                                                                           13\n",
              "short animation by Taku Furukawa.                                                                                                                                                                                                                                                                                                                                                                                                                                                                                                                              10\n",
              "                                                                                                                                                                                                                                                                                                                                                                                                                                                                                                                                                             ... \n",
              "Hyper is a white dolphin who came from the future. In future, the earth has been highly polluted therefore Hyper is trying to change the history by going back to the 21 century and fight against his enemy, an octopus called \"Octopus\".                                                                                                                                                                                                                                                                                                                      1\n",
              "Chi Dor Dor is a squirrel boy, and another Chi Dor Dor, is a rabbit detective who always follows Chi Dor Dor to ensure him doing everything right. This series is used to spread the idea of anti-corruption to the kids.                                                                                                                                                                                                                                                                                                                                       1\n",
              "The original is an impressive sports manga featuring not heroes, but common boys, and the story depicts the growth of Sumiya 2 junior high school baseball team (the successive captains and players) in downtown Tokyo. Takao Taniguchi, who was a substitute player of the second team of Aoba Gakuin, a prestigious junior high school in the baseball world, but he transferred to Sumiya 2 and he became the captain of the baseball club. After steady training, the team try to do a final game in the regional preliminaries, against Aoba Gakuin.      1\n",
              "fter an accident, the amnesiac Sue was taken in to live with Torao's family. She always had the urge to become a singer, but didn't know why. As it turns out, Sue is actually part of a band formed with her two twin sisters. But Sue's climb to the top of the charts is a long and hard way. (Source: AniDB)                                                                                                                                                                                                                                                1\n",
              "Solar calendar year 2020: grotesque organisms called Others have begun eating people. To take down this new enemy, the Other Suppression Force is formed. Saved by this elite team as a child, psychokinetic Yuito withstands the training to enlist. On the other hand, prodigy Kasane was scouted for her abilities. But Kasane's dreams tell her strange things, dragging the two into an unavoidable fate. (Source: Official Site)                                                                                                                          1\n",
              "Name: sypnopsis, Length: 15221, dtype: int64"
            ]
          },
          "metadata": {},
          "execution_count": 104
        }
      ]
    },
    {
      "cell_type": "code",
      "source": [
        "df = df[df.sypnopsis != \"No synopsis information has been added to this title. Help improve our database by adding a synopsis here .\"]"
      ],
      "metadata": {
        "id": "kwR2633L5nkF"
      },
      "execution_count": 105,
      "outputs": []
    },
    {
      "cell_type": "code",
      "source": [
        "df = df[df.sypnopsis != \"No synopsis has been added for this series yet. Click here to update this information.\"]"
      ],
      "metadata": {
        "id": "TN2P90NQ7Pfs"
      },
      "execution_count": 106,
      "outputs": []
    },
    {
      "cell_type": "code",
      "source": [
        "df = df[df.Genres != \"Unknown\"]"
      ],
      "metadata": {
        "id": "y5FCH3Rd_cBw"
      },
      "execution_count": 107,
      "outputs": []
    },
    {
      "cell_type": "code",
      "source": [
        "df"
      ],
      "metadata": {
        "colab": {
          "base_uri": "https://localhost:8080/",
          "height": 424
        },
        "id": "2DkokA6q7Vbj",
        "outputId": "d99a47d2-517d-4baa-bb01-e24710581d64"
      },
      "execution_count": 108,
      "outputs": [
        {
          "output_type": "execute_result",
          "data": {
            "text/plain": [
              "       MAL_ID                             Name    Score  \\\n",
              "0           1                     Cowboy Bebop     8.78   \n",
              "1           5  Cowboy Bebop: Tengoku no Tobira     8.39   \n",
              "2           6                           Trigun     8.24   \n",
              "3           7               Witch Hunter Robin     7.27   \n",
              "4           8                   Bouken Ou Beet     6.98   \n",
              "...       ...                              ...      ...   \n",
              "16207   48471      Tsuki to Laika to Nosferatu  Unknown   \n",
              "16210   48483                     Mieruko-chan  Unknown   \n",
              "16211   48488  Higurashi no Naku Koro ni Sotsu  Unknown   \n",
              "16212   48491      Yama no Susume: Next Summit  Unknown   \n",
              "16213   48492                    Scarlet Nexus  Unknown   \n",
              "\n",
              "                                                  Genres  \\\n",
              "0        Action, Adventure, Comedy, Drama, Sci-Fi, Space   \n",
              "1                  Action, Drama, Mystery, Sci-Fi, Space   \n",
              "2      Action, Sci-Fi, Adventure, Comedy, Drama, Shounen   \n",
              "3      Action, Mystery, Police, Supernatural, Drama, ...   \n",
              "4              Adventure, Fantasy, Shounen, Supernatural   \n",
              "...                                                  ...   \n",
              "16207                             Sci-Fi, Space, Vampire   \n",
              "16210                       Comedy, Horror, Supernatural   \n",
              "16211  Mystery, Dementia, Horror, Psychological, Supe...   \n",
              "16212                   Adventure, Slice of Life, Comedy   \n",
              "16213                                    Action, Fantasy   \n",
              "\n",
              "                                               sypnopsis  \n",
              "0      In the year 2071, humanity has colonized sever...  \n",
              "1      other day, another bounty—such is the life of ...  \n",
              "2      Vash the Stampede is the man with a $$60,000,0...  \n",
              "3      ches are individuals with special powers like ...  \n",
              "4      It is the dark century and the people are suff...  \n",
              "...                                                  ...  \n",
              "16207  The first astronaut in human history was a vam...  \n",
              "16210  ko is a typical high school student whose life...  \n",
              "16211          Sequel to Higurashi no Naku Koro ni Gou .  \n",
              "16212                          New Yama no Susume anime.  \n",
              "16213  Solar calendar year 2020: grotesque organisms ...  \n",
              "\n",
              "[15420 rows x 5 columns]"
            ],
            "text/html": [
              "\n",
              "  <div id=\"df-40ef290e-e4c5-42a5-ac3f-13883e2864c0\">\n",
              "    <div class=\"colab-df-container\">\n",
              "      <div>\n",
              "<style scoped>\n",
              "    .dataframe tbody tr th:only-of-type {\n",
              "        vertical-align: middle;\n",
              "    }\n",
              "\n",
              "    .dataframe tbody tr th {\n",
              "        vertical-align: top;\n",
              "    }\n",
              "\n",
              "    .dataframe thead th {\n",
              "        text-align: right;\n",
              "    }\n",
              "</style>\n",
              "<table border=\"1\" class=\"dataframe\">\n",
              "  <thead>\n",
              "    <tr style=\"text-align: right;\">\n",
              "      <th></th>\n",
              "      <th>MAL_ID</th>\n",
              "      <th>Name</th>\n",
              "      <th>Score</th>\n",
              "      <th>Genres</th>\n",
              "      <th>sypnopsis</th>\n",
              "    </tr>\n",
              "  </thead>\n",
              "  <tbody>\n",
              "    <tr>\n",
              "      <th>0</th>\n",
              "      <td>1</td>\n",
              "      <td>Cowboy Bebop</td>\n",
              "      <td>8.78</td>\n",
              "      <td>Action, Adventure, Comedy, Drama, Sci-Fi, Space</td>\n",
              "      <td>In the year 2071, humanity has colonized sever...</td>\n",
              "    </tr>\n",
              "    <tr>\n",
              "      <th>1</th>\n",
              "      <td>5</td>\n",
              "      <td>Cowboy Bebop: Tengoku no Tobira</td>\n",
              "      <td>8.39</td>\n",
              "      <td>Action, Drama, Mystery, Sci-Fi, Space</td>\n",
              "      <td>other day, another bounty—such is the life of ...</td>\n",
              "    </tr>\n",
              "    <tr>\n",
              "      <th>2</th>\n",
              "      <td>6</td>\n",
              "      <td>Trigun</td>\n",
              "      <td>8.24</td>\n",
              "      <td>Action, Sci-Fi, Adventure, Comedy, Drama, Shounen</td>\n",
              "      <td>Vash the Stampede is the man with a $$60,000,0...</td>\n",
              "    </tr>\n",
              "    <tr>\n",
              "      <th>3</th>\n",
              "      <td>7</td>\n",
              "      <td>Witch Hunter Robin</td>\n",
              "      <td>7.27</td>\n",
              "      <td>Action, Mystery, Police, Supernatural, Drama, ...</td>\n",
              "      <td>ches are individuals with special powers like ...</td>\n",
              "    </tr>\n",
              "    <tr>\n",
              "      <th>4</th>\n",
              "      <td>8</td>\n",
              "      <td>Bouken Ou Beet</td>\n",
              "      <td>6.98</td>\n",
              "      <td>Adventure, Fantasy, Shounen, Supernatural</td>\n",
              "      <td>It is the dark century and the people are suff...</td>\n",
              "    </tr>\n",
              "    <tr>\n",
              "      <th>...</th>\n",
              "      <td>...</td>\n",
              "      <td>...</td>\n",
              "      <td>...</td>\n",
              "      <td>...</td>\n",
              "      <td>...</td>\n",
              "    </tr>\n",
              "    <tr>\n",
              "      <th>16207</th>\n",
              "      <td>48471</td>\n",
              "      <td>Tsuki to Laika to Nosferatu</td>\n",
              "      <td>Unknown</td>\n",
              "      <td>Sci-Fi, Space, Vampire</td>\n",
              "      <td>The first astronaut in human history was a vam...</td>\n",
              "    </tr>\n",
              "    <tr>\n",
              "      <th>16210</th>\n",
              "      <td>48483</td>\n",
              "      <td>Mieruko-chan</td>\n",
              "      <td>Unknown</td>\n",
              "      <td>Comedy, Horror, Supernatural</td>\n",
              "      <td>ko is a typical high school student whose life...</td>\n",
              "    </tr>\n",
              "    <tr>\n",
              "      <th>16211</th>\n",
              "      <td>48488</td>\n",
              "      <td>Higurashi no Naku Koro ni Sotsu</td>\n",
              "      <td>Unknown</td>\n",
              "      <td>Mystery, Dementia, Horror, Psychological, Supe...</td>\n",
              "      <td>Sequel to Higurashi no Naku Koro ni Gou .</td>\n",
              "    </tr>\n",
              "    <tr>\n",
              "      <th>16212</th>\n",
              "      <td>48491</td>\n",
              "      <td>Yama no Susume: Next Summit</td>\n",
              "      <td>Unknown</td>\n",
              "      <td>Adventure, Slice of Life, Comedy</td>\n",
              "      <td>New Yama no Susume anime.</td>\n",
              "    </tr>\n",
              "    <tr>\n",
              "      <th>16213</th>\n",
              "      <td>48492</td>\n",
              "      <td>Scarlet Nexus</td>\n",
              "      <td>Unknown</td>\n",
              "      <td>Action, Fantasy</td>\n",
              "      <td>Solar calendar year 2020: grotesque organisms ...</td>\n",
              "    </tr>\n",
              "  </tbody>\n",
              "</table>\n",
              "<p>15420 rows × 5 columns</p>\n",
              "</div>\n",
              "      <button class=\"colab-df-convert\" onclick=\"convertToInteractive('df-40ef290e-e4c5-42a5-ac3f-13883e2864c0')\"\n",
              "              title=\"Convert this dataframe to an interactive table.\"\n",
              "              style=\"display:none;\">\n",
              "        \n",
              "  <svg xmlns=\"http://www.w3.org/2000/svg\" height=\"24px\"viewBox=\"0 0 24 24\"\n",
              "       width=\"24px\">\n",
              "    <path d=\"M0 0h24v24H0V0z\" fill=\"none\"/>\n",
              "    <path d=\"M18.56 5.44l.94 2.06.94-2.06 2.06-.94-2.06-.94-.94-2.06-.94 2.06-2.06.94zm-11 1L8.5 8.5l.94-2.06 2.06-.94-2.06-.94L8.5 2.5l-.94 2.06-2.06.94zm10 10l.94 2.06.94-2.06 2.06-.94-2.06-.94-.94-2.06-.94 2.06-2.06.94z\"/><path d=\"M17.41 7.96l-1.37-1.37c-.4-.4-.92-.59-1.43-.59-.52 0-1.04.2-1.43.59L10.3 9.45l-7.72 7.72c-.78.78-.78 2.05 0 2.83L4 21.41c.39.39.9.59 1.41.59.51 0 1.02-.2 1.41-.59l7.78-7.78 2.81-2.81c.8-.78.8-2.07 0-2.86zM5.41 20L4 18.59l7.72-7.72 1.47 1.35L5.41 20z\"/>\n",
              "  </svg>\n",
              "      </button>\n",
              "      \n",
              "  <style>\n",
              "    .colab-df-container {\n",
              "      display:flex;\n",
              "      flex-wrap:wrap;\n",
              "      gap: 12px;\n",
              "    }\n",
              "\n",
              "    .colab-df-convert {\n",
              "      background-color: #E8F0FE;\n",
              "      border: none;\n",
              "      border-radius: 50%;\n",
              "      cursor: pointer;\n",
              "      display: none;\n",
              "      fill: #1967D2;\n",
              "      height: 32px;\n",
              "      padding: 0 0 0 0;\n",
              "      width: 32px;\n",
              "    }\n",
              "\n",
              "    .colab-df-convert:hover {\n",
              "      background-color: #E2EBFA;\n",
              "      box-shadow: 0px 1px 2px rgba(60, 64, 67, 0.3), 0px 1px 3px 1px rgba(60, 64, 67, 0.15);\n",
              "      fill: #174EA6;\n",
              "    }\n",
              "\n",
              "    [theme=dark] .colab-df-convert {\n",
              "      background-color: #3B4455;\n",
              "      fill: #D2E3FC;\n",
              "    }\n",
              "\n",
              "    [theme=dark] .colab-df-convert:hover {\n",
              "      background-color: #434B5C;\n",
              "      box-shadow: 0px 1px 3px 1px rgba(0, 0, 0, 0.15);\n",
              "      filter: drop-shadow(0px 1px 2px rgba(0, 0, 0, 0.3));\n",
              "      fill: #FFFFFF;\n",
              "    }\n",
              "  </style>\n",
              "\n",
              "      <script>\n",
              "        const buttonEl =\n",
              "          document.querySelector('#df-40ef290e-e4c5-42a5-ac3f-13883e2864c0 button.colab-df-convert');\n",
              "        buttonEl.style.display =\n",
              "          google.colab.kernel.accessAllowed ? 'block' : 'none';\n",
              "\n",
              "        async function convertToInteractive(key) {\n",
              "          const element = document.querySelector('#df-40ef290e-e4c5-42a5-ac3f-13883e2864c0');\n",
              "          const dataTable =\n",
              "            await google.colab.kernel.invokeFunction('convertToInteractive',\n",
              "                                                     [key], {});\n",
              "          if (!dataTable) return;\n",
              "\n",
              "          const docLinkHtml = 'Like what you see? Visit the ' +\n",
              "            '<a target=\"_blank\" href=https://colab.research.google.com/notebooks/data_table.ipynb>data table notebook</a>'\n",
              "            + ' to learn more about interactive tables.';\n",
              "          element.innerHTML = '';\n",
              "          dataTable['output_type'] = 'display_data';\n",
              "          await google.colab.output.renderOutput(dataTable, element);\n",
              "          const docLink = document.createElement('div');\n",
              "          docLink.innerHTML = docLinkHtml;\n",
              "          element.appendChild(docLink);\n",
              "        }\n",
              "      </script>\n",
              "    </div>\n",
              "  </div>\n",
              "  "
            ]
          },
          "metadata": {},
          "execution_count": 108
        }
      ]
    },
    {
      "cell_type": "code",
      "source": [
        "df.sypnopsis.value_counts()"
      ],
      "metadata": {
        "colab": {
          "base_uri": "https://localhost:8080/"
        },
        "id": "eiDk2NGg7Zcm",
        "outputId": "383a3559-e995-4a1a-fe20-10a2a14b1c98"
      },
      "execution_count": 109,
      "outputs": [
        {
          "output_type": "execute_result",
          "data": {
            "text/plain": [
              "Film by Takashi Ito.                                                                                                                                                                                                                                                                                                                                                                                                                      13\n",
              "Furukawa Taku film.                                                                                                                                                                                                                                                                                                                                                                                                                       13\n",
              "short animation by Taku Furukawa.                                                                                                                                                                                                                                                                                                                                                                                                          9\n",
              "short film by Okamoto Tadanari.                                                                                                                                                                                                                                                                                                                                                                                                            8\n",
              "Short animation by Rapparu.                                                                                                                                                                                                                                                                                                                                                                                                                8\n",
              "                                                                                                                                                                                                                                                                                                                                                                                                                                          ..\n",
              "Schoolgirl Mami Sakura discovers that she has superpowers. She can sense other people in trouble and teleport to help them, but she keeps her secret double-life hidden from her parents with the help of her schoolfriend, Kazuo Takahata. In this short film, Mami uses her powers to make a puppet show for deprived children. (Source: Anime Encyclopedia)                                                                             1\n",
              "scientist invents 5 special solar powered cars that can be joined into one supercar. The cars are given to the scientists son and his friends to compete in the racing circuit, but they are pursued by an evil organization that wants the secret of solar power. (Source: AniDB)                                                                                                                                                         1\n",
              "he Osomatsu boys—sextuplets who look, speak, dress and talk like the same. They only add to the hyper eccentric residents of the town who easily break any boundaries defined by common sense. Check your logical thinking and reason at the door and immerse yourself in everyday lives of unique characters who are wild both in appearance and temperament! (Source: Studio Pierrot)                                                    1\n",
              "acky comedy about identical sextuplets causing wild pranks. Each episode features 2 stories. (Source: AniDB)                                                                                                                                                                                                                                                                                                                               1\n",
              "Solar calendar year 2020: grotesque organisms called Others have begun eating people. To take down this new enemy, the Other Suppression Force is formed. Saved by this elite team as a child, psychokinetic Yuito withstands the training to enlist. On the other hand, prodigy Kasane was scouted for her abilities. But Kasane's dreams tell her strange things, dragging the two into an unavoidable fate. (Source: Official Site)     1\n",
              "Name: sypnopsis, Length: 15190, dtype: int64"
            ]
          },
          "metadata": {},
          "execution_count": 109
        }
      ]
    },
    {
      "cell_type": "code",
      "source": [
        "from sklearn.preprocessing import OneHotEncoder\n",
        "\n",
        "cat_encoder = OneHotEncoder()\n",
        "setGenres = df[[\"Genres\"]]\n",
        "\n",
        "genres_1hot = cat_encoder.fit_transform(setGenres)\n",
        "\n",
        "genres_1hot.toarray()"
      ],
      "metadata": {
        "colab": {
          "base_uri": "https://localhost:8080/"
        },
        "id": "0M0fOEmB-HqL",
        "outputId": "a7865f75-b90c-43d3-f7dd-6edba0ecf969"
      },
      "execution_count": 110,
      "outputs": [
        {
          "output_type": "execute_result",
          "data": {
            "text/plain": [
              "array([[0., 0., 0., ..., 0., 0., 0.],\n",
              "       [0., 0., 0., ..., 0., 0., 0.],\n",
              "       [0., 0., 0., ..., 0., 0., 0.],\n",
              "       ...,\n",
              "       [0., 0., 0., ..., 0., 0., 0.],\n",
              "       [0., 0., 0., ..., 0., 0., 0.],\n",
              "       [0., 0., 0., ..., 0., 0., 0.]])"
            ]
          },
          "metadata": {},
          "execution_count": 110
        }
      ]
    },
    {
      "cell_type": "code",
      "source": [
        "cat_encoder.categories_"
      ],
      "metadata": {
        "colab": {
          "base_uri": "https://localhost:8080/"
        },
        "id": "PpouA9wK_Org",
        "outputId": "8cfd5b74-02d7-420d-e7ad-84ce995c840e"
      },
      "execution_count": 111,
      "outputs": [
        {
          "output_type": "execute_result",
          "data": {
            "text/plain": [
              "[array(['Action', 'Action, Adventure', 'Action, Adventure, Cars', ...,\n",
              "        'Thriller, Sci-Fi', 'Vampire', 'Yaoi'], dtype=object)]"
            ]
          },
          "metadata": {},
          "execution_count": 111
        }
      ]
    },
    {
      "cell_type": "code",
      "source": [],
      "metadata": {
        "id": "YVfEZ3Q6BXa6"
      },
      "execution_count": 111,
      "outputs": []
    },
    {
      "cell_type": "markdown",
      "source": [
        "Ive dropped alot of things to help modfiy the dataset so we could get good data for the bag of words. the things i have dropped or found in the program. \n",
        "I have dropped unknown genres, dropped anime's with no sypnopsis provided and also dropped sypnopsis with Nan values. I beleieve the dataset is clean and ready for train test split."
      ],
      "metadata": {
        "id": "h_y-cLlZBoSn"
      }
    },
    {
      "cell_type": "code",
      "source": [
        "from sklearn.model_selection import train_test_split\n",
        "\n",
        "X_train_full, X_test, y_train_full, y_test = train_test_split(df.sypnopsis,genres_1hot, test_size = 0.2, random_state = 0)"
      ],
      "metadata": {
        "id": "sNp3CAyNGM44"
      },
      "execution_count": 112,
      "outputs": []
    },
    {
      "cell_type": "code",
      "source": [
        "X_train_full"
      ],
      "metadata": {
        "colab": {
          "base_uri": "https://localhost:8080/"
        },
        "id": "EKcSa7UCGOh0",
        "outputId": "571d97f0-d7c7-44ed-d95f-4fce955cd4c6"
      },
      "execution_count": 113,
      "outputs": [
        {
          "output_type": "execute_result",
          "data": {
            "text/plain": [
              "1008     dabots—powerful robots granted artificial inte...\n",
              "9065     Opening one's inner doors of conflict is the k...\n",
              "7287     Kappamaki and his sushi friends are cute-cool-...\n",
              "4758     dung beetle and a scorpion among others are ta...\n",
              "4059     side story that reveals the investigative note...\n",
              "                               ...                        \n",
              "13623    The Bandai Namco concept movies for Tales of C...\n",
              "3292     Haruka finds a cat in an abandoned building an...\n",
              "10164    music video for the song \"Obaachan no Takaramo...\n",
              "11152    ducational film about LGBT human rights proble...\n",
              "2759     series of specials included on the Maria-sama ...\n",
              "Name: sypnopsis, Length: 12336, dtype: object"
            ]
          },
          "metadata": {},
          "execution_count": 113
        }
      ]
    },
    {
      "cell_type": "code",
      "source": [
        "X_train, X_val, Y_train, y_val = train_test_split(X_train_full, y_train_full, test_size = 0.2, random_state = 0)\n",
        "\n",
        "X_train[:4]"
      ],
      "metadata": {
        "colab": {
          "base_uri": "https://localhost:8080/"
        },
        "id": "fqDm4EUBGWVG",
        "outputId": "1924815e-005b-475c-c972-8b14ca5f7848"
      },
      "execution_count": 114,
      "outputs": [
        {
          "output_type": "execute_result",
          "data": {
            "text/plain": [
              "13082    kka Isurugi has spent her life training in the...\n",
              "13471    Say hi to Tayo's new friend - Titipo! Train Ce...\n",
              "1175     Handsome and effeminate, quiet but proud, the ...\n",
              "3250     The story is an epic adventure based on a famo...\n",
              "Name: sypnopsis, dtype: object"
            ]
          },
          "metadata": {},
          "execution_count": 114
        }
      ]
    },
    {
      "cell_type": "code",
      "source": [
        "type(X_train.values)\n",
        "X_train.shape"
      ],
      "metadata": {
        "colab": {
          "base_uri": "https://localhost:8080/"
        },
        "id": "aBeRC06iJsUZ",
        "outputId": "538abe9c-a0b3-4ec1-ede9-738634fe0b85"
      },
      "execution_count": 115,
      "outputs": [
        {
          "output_type": "execute_result",
          "data": {
            "text/plain": [
              "(9868,)"
            ]
          },
          "metadata": {},
          "execution_count": 115
        }
      ]
    },
    {
      "cell_type": "code",
      "source": [
        "from sklearn.feature_extraction.text import CountVectorizer\n",
        "\n",
        "v = CountVectorizer()\n",
        "\n",
        "X_train_countV = v.fit_transform(X_train.values)\n",
        "\n",
        "X_train_countV.shape"
      ],
      "metadata": {
        "colab": {
          "base_uri": "https://localhost:8080/"
        },
        "id": "jzkH-y5FIgdm",
        "outputId": "2671e7ce-797e-48d2-f848-abc8f278d0f4"
      },
      "execution_count": 118,
      "outputs": [
        {
          "output_type": "execute_result",
          "data": {
            "text/plain": [
              "(9868, 36519)"
            ]
          },
          "metadata": {},
          "execution_count": 118
        }
      ]
    },
    {
      "cell_type": "code",
      "source": [
        "v.get_feature_names_out()[20881]"
      ],
      "metadata": {
        "colab": {
          "base_uri": "https://localhost:8080/",
          "height": 35
        },
        "id": "aP4LG813Kg6r",
        "outputId": "df4f89a3-2145-4033-c0b8-1f19d8b34004"
      },
      "execution_count": 139,
      "outputs": [
        {
          "output_type": "execute_result",
          "data": {
            "text/plain": [
              "'months'"
            ],
            "application/vnd.google.colaboratory.intrinsic+json": {
              "type": "string"
            }
          },
          "metadata": {},
          "execution_count": 139
        }
      ]
    },
    {
      "cell_type": "markdown",
      "source": [
        "this is the vocabulary "
      ],
      "metadata": {
        "id": "_9ohwvDXNqKm"
      }
    },
    {
      "cell_type": "code",
      "source": [],
      "metadata": {
        "id": "Oz3DhmBcNp2D"
      },
      "execution_count": null,
      "outputs": []
    },
    {
      "cell_type": "code",
      "source": [
        "X_train_np = X_train_countV.toarray();\n",
        "\n",
        "np.where(X_train_np[0] != 0)"
      ],
      "metadata": {
        "colab": {
          "base_uri": "https://localhost:8080/"
        },
        "id": "7Q5dZWIMLkUv",
        "outputId": "801bc491-e914-4cab-a0a9-36c3d900aa88"
      },
      "execution_count": 123,
      "outputs": [
        {
          "output_type": "execute_result",
          "data": {
            "text/plain": [
              "(array([  115,  1462,  1537,  1692,  1727,  1769,  1905,  2011,  2213,\n",
              "         2378,  2400,  2693,  3746,  4594,  4795,  5190,  5672,  7026,\n",
              "         7118,  7414,  7867,  7944,  7981,  8578,  8683,  8812,  8814,\n",
              "         8815,  9094,  9754,  9825,  9862, 10382, 10403, 10483, 10581,\n",
              "        10965, 11001, 11005, 11043, 11102, 11127, 12108, 12451, 12612,\n",
              "        13277, 13356, 13594, 13899, 14234, 14359, 14417, 14536, 14864,\n",
              "        14944, 15298, 15584, 15661, 16195, 17030, 17031, 17282, 18454,\n",
              "        19289, 19587, 19923, 20006, 20337, 20881, 20915, 21977, 22048,\n",
              "        22287, 22333, 22615, 22823, 23064, 23216, 23679, 23763, 24381,\n",
              "        25023, 25618, 25930, 26510, 26584, 26586, 26857, 28124, 28520,\n",
              "        28661, 28683, 29439, 30142, 31910, 31921, 32224, 32227, 32260,\n",
              "        32270, 32275, 32287, 32308, 32487, 32962, 34015, 34164, 34948,\n",
              "        35084, 35096, 35123, 35175, 35255, 35360, 35367]),)"
            ]
          },
          "metadata": {},
          "execution_count": 123
        }
      ]
    },
    {
      "cell_type": "code",
      "source": [
        "X_train[:4][13082]"
      ],
      "metadata": {
        "colab": {
          "base_uri": "https://localhost:8080/",
          "height": 143
        },
        "id": "IdsvQkBzL8Ro",
        "outputId": "bd6b58c4-bd16-4b1a-f17a-955132014ec2"
      },
      "execution_count": 134,
      "outputs": [
        {
          "output_type": "execute_result",
          "data": {
            "text/plain": [
              "\"kka Isurugi has spent her life training in the way of the ninja with her grandfather Hyoe while following in the footsteps of her father, the esteemed researcher Allen. His work has culminated in a set of cutting- edge drones equipped with artificial intelligence and incredible technical capabilities; although Allen plans to develop these drones for civilian use, there are others who have more sinister ideas in mind. On Rikka's 16th birthday, things are forever changed when a paramilitary group raids the Isurugi house in search of the drone technology, killing Allen and Hyoe while Rikka manages to escape with the drones. Months pass, and Rikka is now an ordinary girl working as a private detective while sharing an apartment with another girl, Melissa. But when night falls, she dons her grandfather's fox mask and mercilessly hunts down those responsible for the attack. With the anger she felt that day driving her forward, Rikka will not rest until her family's killers receive the justice that they deserve.\""
            ],
            "application/vnd.google.colaboratory.intrinsic+json": {
              "type": "string"
            }
          },
          "metadata": {},
          "execution_count": 134
        }
      ]
    },
    {
      "cell_type": "code",
      "source": [
        "X_train_np[0][20881]"
      ],
      "metadata": {
        "colab": {
          "base_uri": "https://localhost:8080/"
        },
        "id": "wlLzawQdMOE2",
        "outputId": "a3d46834-2f28-43aa-debc-4dcc9d9a9840"
      },
      "execution_count": 138,
      "outputs": [
        {
          "output_type": "execute_result",
          "data": {
            "text/plain": [
              "1"
            ]
          },
          "metadata": {},
          "execution_count": 138
        }
      ]
    },
    {
      "cell_type": "markdown",
      "source": [
        "this shows how many times that word is shown"
      ],
      "metadata": {
        "id": "nODOEqnSNjjc"
      }
    },
    {
      "cell_type": "code",
      "source": [],
      "metadata": {
        "id": "WWnsoyRkNjHY"
      },
      "execution_count": null,
      "outputs": []
    }
  ]
}